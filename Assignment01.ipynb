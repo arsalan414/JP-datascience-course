{
 "cells": [
  {
   "cell_type": "code",
   "execution_count": 1,
   "id": "cb09b9c3",
   "metadata": {},
   "outputs": [
    {
     "name": "stdout",
     "output_type": "stream",
     "text": [
      "\tTwinkle, twinkle, little star,\n",
      "\t\tHow I wonder what you are!\n",
      "\t\t\tUp above the world so high,\n",
      "\t\t\tLike a diamond in the sky.\n",
      "\tTwinkle, twinkle, little star,\n",
      "\t\tHow I wonder what you are\n"
     ]
    }
   ],
   "source": [
    "# Write a Python program to print the following string in a specific format (see the\n",
    "# output).\n",
    "\n",
    "#     Twinkle, twinkle, little star,\n",
    "#         How I wonder what you are!\n",
    "#             Up above the world so high,\n",
    "#             Like a diamond in the sky.\n",
    "\n",
    "#     Twinkle, twinkle, little star,\n",
    "#         How I wonder what you are\n",
    "\n",
    "\n",
    "print('\\tTwinkle, twinkle, little star,\\n\\t\\tHow I wonder what you are!\\n\\t\\t\\tUp above the world so high,\\n\\t\\t\\tLike a diamond in the sky.\\n\\tTwinkle, twinkle, little star,\\n\\t\\tHow I wonder what you are');"
   ]
  },
  {
   "cell_type": "code",
   "execution_count": 2,
   "id": "0133d93a",
   "metadata": {},
   "outputs": [
    {
     "name": "stdout",
     "output_type": "stream",
     "text": [
      "Python version\n",
      "3.9.7 (default, Sep 16 2021, 13:09:58) \n",
      "[GCC 7.5.0]\n"
     ]
    }
   ],
   "source": [
    "# Write a Python program to get the Python version you are using\n",
    "\n",
    "import sys\n",
    "print(\"Python version\")\n",
    "print (sys.version)"
   ]
  },
  {
   "cell_type": "code",
   "execution_count": 3,
   "id": "17d8324c",
   "metadata": {},
   "outputs": [
    {
     "name": "stdout",
     "output_type": "stream",
     "text": [
      "date and time = 01/01/2022 16:02:49\n"
     ]
    }
   ],
   "source": [
    "# Write a Python program to display the current date and time.\n",
    "\n",
    "from datetime import datetime\n",
    "\n",
    "today = datetime.today()\n",
    "# for formating date and time\n",
    "current_time_date = today.strftime(\"%d/%m/%Y %H:%M:%S\")\n",
    "print(\"date and time =\", current_time_date)\n"
   ]
  },
  {
   "cell_type": "code",
   "execution_count": 4,
   "id": "642fcf23",
   "metadata": {},
   "outputs": [
    {
     "name": "stdout",
     "output_type": "stream",
     "text": [
      "Radius of a circle:5\n",
      "area of a cirlce:  78.53999999999999\n"
     ]
    }
   ],
   "source": [
    "# Write a Python program which accepts the radius of a circle from the user and compute the area.\n",
    "\n",
    "radius = int(input(\"Radius of a circle:\"))\n",
    "# area of circle is πr² and value of π is 3.1416\n",
    "area = 3.1416 * (radius**2)\n",
    "\n",
    "# printing area of circle\n",
    "print(\"area of a cirlce: \",area)"
   ]
  },
  {
   "cell_type": "code",
   "execution_count": 5,
   "id": "7ac3bfd8",
   "metadata": {},
   "outputs": [
    {
     "name": "stdout",
     "output_type": "stream",
     "text": [
      "First Name: muhammad\n",
      "last Name: arsalan\n",
      "full name is: arsalan muhammad\n"
     ]
    }
   ],
   "source": [
    "# Write a Python program which accepts the user's first and last name and print them inreverse order with a space between them.\n",
    "\n",
    "first_Name = input(\"First Name: \")\n",
    "last_Name = input(\"last Name: \")\n",
    "\n",
    "# printing last name then first name\n",
    "print(f\"full name is: {last_Name} {first_Name}\")"
   ]
  },
  {
   "cell_type": "code",
   "execution_count": 7,
   "id": "8773e682",
   "metadata": {},
   "outputs": [
    {
     "name": "stdout",
     "output_type": "stream",
     "text": [
      "ADDITION PROGRAM\n",
      "\n",
      "enter a 1st value:23\n",
      "enter a 2nd value:2\n",
      "\n",
      "sum of 23 and 2 is:  25\n"
     ]
    }
   ],
   "source": [
    " #Write a python program which takes two inputs from user and print them addition\n",
    "\n",
    "print(\"ADDITION PROGRAM\\n\")\n",
    "value1 = int(input(\"enter a 1st value:\"))\n",
    "value2 = int(input(\"enter a 2nd value:\"))\n",
    "\n",
    "# sum of two numbers\n",
    "sum= value1+value2\n",
    "print(f\"\\nsum of {value1} and {value2} is: \",sum)"
   ]
  },
  {
   "cell_type": "code",
   "execution_count": null,
   "id": "36cbabaf",
   "metadata": {},
   "outputs": [],
   "source": []
  }
 ],
 "metadata": {
  "kernelspec": {
   "display_name": "Python 3 (ipykernel)",
   "language": "python",
   "name": "python3"
  },
  "language_info": {
   "codemirror_mode": {
    "name": "ipython",
    "version": 3
   },
   "file_extension": ".py",
   "mimetype": "text/x-python",
   "name": "python",
   "nbconvert_exporter": "python",
   "pygments_lexer": "ipython3",
   "version": "3.9.7"
  }
 },
 "nbformat": 4,
 "nbformat_minor": 5
}
